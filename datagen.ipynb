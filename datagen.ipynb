{
 "cells": [
  {
   "cell_type": "code",
   "execution_count": 1,
   "metadata": {},
   "outputs": [
    {
     "name": "stderr",
     "output_type": "stream",
     "text": [
      "Using TensorFlow backend.\n"
     ]
    }
   ],
   "source": [
    "import numpy as np\n",
    "from keras.models import load_model\n",
    "from keras.preprocessing.image import array_to_img, img_to_array, load_img, ImageDataGenerator"
   ]
  },
  {
   "cell_type": "code",
   "execution_count": 6,
   "metadata": {},
   "outputs": [
    {
     "name": "stdout",
     "output_type": "stream",
     "text": [
      "Found 5072 images belonging to 1 classes.\n",
      "Found 5072 images belonging to 1 classes.\n"
     ]
    }
   ],
   "source": [
    "# we create two instances with the same arguments\n",
    "data_gen_args = dict(rotation_range=90.,\n",
    "                     width_shift_range=0.1,\n",
    "                     height_shift_range=0.1,\n",
    "                     zoom_range=0.2)\n",
    "image_datagen = ImageDataGenerator(**data_gen_args)\n",
    "mask_datagen = ImageDataGenerator(**data_gen_args)\n",
    "\n",
    "# Provide the same seed and keyword arguments to the fit and flow methods\n",
    "seed = 1\n",
    "\n",
    "image_generator = image_datagen.flow_from_directory(\n",
    "    'data/train/image',\n",
    "    class_mode=None,\n",
    "    seed=seed)\n",
    "\n",
    "mask_generator = mask_datagen.flow_from_directory(\n",
    "    'data/train/label',\n",
    "    class_mode=None,\n",
    "    seed=seed)\n",
    "\n",
    "# combine generators into one which yields image and masks\n",
    "train_generator = zip(image_generator, mask_generator)"
   ]
  },
  {
   "cell_type": "code",
   "execution_count": 2,
   "metadata": {},
   "outputs": [
    {
     "data": {
      "text/plain": [
       "LabelEncoder()"
      ]
     },
     "execution_count": 2,
     "metadata": {},
     "output_type": "execute_result"
    }
   ],
   "source": [
    "import os\n",
    "from sklearn.preprocessing import LabelEncoder\n",
    "from keras.utils.np_utils import to_categorical  \n",
    "labelencoder = LabelEncoder()\n",
    "labelencoder.fit([0, 1])\n"
   ]
  },
  {
   "cell_type": "code",
   "execution_count": 3,
   "metadata": {},
   "outputs": [],
   "source": [
    "img_scale = (512, 512, 3)\n",
    "batch_size = 8\n",
    "n_label = 2\n",
    "\n",
    "def _generateData(image_dir, label_dir=None): \n",
    "    imgnames = sorted(os.listdir(image_dir))\n",
    "    labelnames = [] if label_dir is None else sorted(os.listdir(label_dir))\n",
    "    \n",
    "    while True:\n",
    "        random_indices = np.random.choice(np.arange(len(imgnames)), batch_size)\n",
    "        data = []  \n",
    "        label = []\n",
    "        for i in random_indices:\n",
    "            image_path = os.path.join(image_dir, imgnames[i])\n",
    "            image = load_img(image_path, target_size=img_scale)\n",
    "            image_arr = img_to_array(image)/255 \n",
    "            data.append(image_arr)\n",
    "\n",
    "            if label_dir is not None:\n",
    "                label_path = os.path.join(label_dir, labelnames[i])\n",
    "                mask = load_img(label_path, target_size=img_scale, grayscale=True)\n",
    "                mask_arr = img_to_array(mask).reshape((img_scale[0] * img_scale[1],))/255\n",
    "                \n",
    "                if np.any(mask_arr[np.where(np.logical_and(mask_arr!=0, mask_arr!=1))]):\n",
    "                    print(mask_arr[np.where(np.logical_and(mask_arr!=0, mask_arr!=1))])\n",
    "                    print(labelnames[i])\n",
    "                if np.any(mask_arr[np.where(mask_arr!=0)] != 1):\n",
    "                    print(labelnames[i])\n",
    "                label.append(mask_arr)\n",
    "\n",
    "        data = np.array(data)\n",
    "        if len(label) == 0:\n",
    "            yield data\n",
    "        else:\n",
    "            label = np.array(label).flatten()\n",
    "            label = labelencoder.transform(label)\n",
    "            label = to_categorical(label, num_classes=n_label)\n",
    "            label = label.reshape((batch_size, img_scale[0] * img_scale[1], n_label)) \n",
    "            yield data, label\n",
    "\n",
    "\n",
    "train_gen = _generateData('data/train/image/car', 'data/train/label/car')"
   ]
  },
  {
   "cell_type": "code",
   "execution_count": 4,
   "metadata": {},
   "outputs": [
    {
     "name": "stdout",
     "output_type": "stream",
     "text": [
      "5056\n"
     ]
    },
    {
     "data": {
      "text/plain": [
       "((512, 512, 3), (262144, 2))"
      ]
     },
     "execution_count": 4,
     "metadata": {},
     "output_type": "execute_result"
    }
   ],
   "source": [
    "imgs, masks = next(train_gen)\n",
    "\n",
    "img, mask = imgs[0], masks[0]\n",
    "img.shape, mask.shape"
   ]
  },
  {
   "cell_type": "code",
   "execution_count": null,
   "metadata": {},
   "outputs": [],
   "source": [
    "model = load_model('_segnet.hdf5', custom_objects=dict(dice_coef=self.dice_coef))"
   ]
  },
  {
   "cell_type": "code",
   "execution_count": 64,
   "metadata": {
    "scrolled": false
   },
   "outputs": [
    {
     "name": "stdout",
     "output_type": "stream",
     "text": [
      "(512, 512, 3)\n"
     ]
    }
   ],
   "source": [
    "img = load_img('data/train/label/car/0cdf5b5d0ce1_02_mask.gif', target_size=img_scale, grayscale=True)\n",
    "arr = img_to_array(img)\n",
    "arr_2d = arr.reshape(img_scale[:2])\n",
    "arr_3d = np.stack((arr_2d,)*3, -1)\n",
    "print(arr_3d.shape)\n",
    "#new_img = array_to_img(arr_3d)\n",
    "#new_img.save('aaa.gif')"
   ]
  },
  {
   "cell_type": "code",
   "execution_count": 52,
   "metadata": {},
   "outputs": [
    {
     "data": {
      "text/plain": [
       "array([[ 1.],\n",
       "       [ 1.],\n",
       "       [ 1.],\n",
       "       ..., \n",
       "       [ 1.],\n",
       "       [ 1.],\n",
       "       [ 1.]], dtype=float32)"
      ]
     },
     "execution_count": 52,
     "metadata": {},
     "output_type": "execute_result"
    }
   ],
   "source": [
    "train_imgnames = os.listdir('data/train/image/car')\n",
    "train_labelnames = os.listdir('data/train/label/car')\n",
    "\n",
    "labelpath = os.path.join('data/train/label/car', train_labelnames[0])\n",
    "mask = load_img(labelpath, target_size=img_scale[:2], grayscale=True)\n",
    "mask_arr = img_to_array(mask)\n",
    "mask_arr/=255\n",
    "mask_arr[np.where(mask_arr[:, :, 0]==1)]"
   ]
  },
  {
   "cell_type": "code",
   "execution_count": 43,
   "metadata": {},
   "outputs": [
    {
     "name": "stdout",
     "output_type": "stream",
     "text": [
      "good\n",
      "good\n",
      "good\n",
      "good\n",
      "good\n",
      "good\n",
      "good\n",
      "good\n",
      "good\n",
      "good\n",
      "good\n",
      "good\n",
      "good\n",
      "good\n",
      "good\n",
      "good\n"
     ]
    }
   ],
   "source": [
    "for i in range(1, 17):\n",
    "    binary_img = load_img('data/train/label/car/00087a6bd4dc_04_mask.jpg{num:02d}_mask.gif'.format(num=i), target_size=img_scale[:2], grayscale=True)\n",
    "    binary_arr = img_to_array(binary_img)/255\n",
    "    if np.all(binary_arr[np.where(binary_arr!=0)] == 1):\n",
    "        print('good')\n",
    "    if np.any(binary_arr[np.where(np.logical_and(binary_arr!=0, binary_arr!=1))]):\n",
    "        print(binary_arr[np.where(np.logical_and(binary_arr!=0, binray_arr!=1))])\n",
    "        print(labelnames[i])"
   ]
  },
  {
   "cell_type": "code",
   "execution_count": 16,
   "metadata": {},
   "outputs": [
    {
     "name": "stdout",
     "output_type": "stream",
     "text": [
      "[[0 0 0 0 0]\n",
      " [0 1 2 3 4]\n",
      " [0 2 4 6 8]]\n",
      "[[0 0 0]\n",
      " [0 0 0]\n",
      " [1 2 3]\n",
      " [4 0 2]\n",
      " [4 6 8]]\n"
     ]
    }
   ],
   "source": [
    "## a1 = np.array([[e1*e2 for e1 in range(5)] for e2 in range(3)])\n",
    "a2 = a1.reshape(5, -5)\n",
    "print(a1)\n",
    "print(a2)"
   ]
  },
  {
   "cell_type": "code",
   "execution_count": 35,
   "metadata": {},
   "outputs": [
    {
     "name": "stdout",
     "output_type": "stream",
     "text": [
      "[3 5 2 6 1 0 6 1]\n",
      "[2 4 6 4 7 4 6 7]\n"
     ]
    }
   ],
   "source": [
    "print(np.random.choice(np.arange(8), 8))\n",
    "print(np.random.choice(np.arange(8), 8))"
   ]
  },
  {
   "cell_type": "code",
   "execution_count": 66,
   "metadata": {},
   "outputs": [
    {
     "data": {
      "text/plain": [
       "['.ipynb_checkpoints',\n",
       " '__pycache__',\n",
       " 'data',\n",
       " 'data.py',\n",
       " 'datagen.ipynb',\n",
       " 'gif_mask',\n",
       " 'segnet.py',\n",
       " 'test_predict.py',\n",
       " 'unet.hdf5',\n",
       " 'unet.py',\n",
       " 'unknow_img.png']"
      ]
     },
     "execution_count": 66,
     "metadata": {},
     "output_type": "execute_result"
    }
   ],
   "source": [
    "sorted(os.listdir(None))"
   ]
  },
  {
   "cell_type": "code",
   "execution_count": 10,
   "metadata": {},
   "outputs": [
    {
     "data": {
      "text/plain": [
       "True"
      ]
     },
     "execution_count": 10,
     "metadata": {},
     "output_type": "execute_result"
    }
   ],
   "source": [
    "(1, 2, 3) == tuple([e for e in range(1, 4)])"
   ]
  }
 ],
 "metadata": {
  "kernelspec": {
   "display_name": "Python 3",
   "language": "python",
   "name": "python3"
  },
  "language_info": {
   "codemirror_mode": {
    "name": "ipython",
    "version": 3
   },
   "file_extension": ".py",
   "mimetype": "text/x-python",
   "name": "python",
   "nbconvert_exporter": "python",
   "pygments_lexer": "ipython3",
   "version": "3.6.4"
  }
 },
 "nbformat": 4,
 "nbformat_minor": 2
}
